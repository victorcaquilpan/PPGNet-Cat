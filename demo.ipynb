{
 "cells": [
  {
   "cell_type": "code",
   "execution_count": 1,
   "metadata": {
    "execution": {
     "iopub.execute_input": "2023-11-09T02:52:53.271411Z",
     "iopub.status.busy": "2023-11-09T02:52:53.270748Z",
     "iopub.status.idle": "2023-11-09T02:52:55.050340Z",
     "shell.execute_reply": "2023-11-09T02:52:55.049830Z"
    }
   },
   "outputs": [],
   "source": [
    "# Import libraries\n",
    "import torch\n",
    "import numpy as np\n",
    "from pytorch_lightning import Trainer\n",
    "\n",
    "# Import other complementary scripts\n",
    "from models.pl_inference import ReidPrediction\n",
    "from datasets.dataloader import ReidDataModule\n",
    "from utils.cosine_similarity import cosine_similarity\n",
    "from utils.re_ranking import re_ranking\n",
    "from utils.evaluation import evaluate\n",
    "from utils.visualizations import imshow"
   ]
  },
  {
   "cell_type": "code",
   "execution_count": 2,
   "metadata": {
    "execution": {
     "iopub.execute_input": "2023-11-09T02:52:55.052149Z",
     "iopub.status.busy": "2023-11-09T02:52:55.051974Z",
     "iopub.status.idle": "2023-11-09T02:52:56.460681Z",
     "shell.execute_reply": "2023-11-09T02:52:56.460209Z"
    }
   },
   "outputs": [
    {
     "name": "stderr",
     "output_type": "stream",
     "text": [
      "Using 16bit Automatic Mixed Precision (AMP)\n",
      "GPU available: True (cuda), used: True\n",
      "TPU available: False, using: 0 TPU cores\n",
      "IPU available: False, using: 0 IPUs\n",
      "HPU available: False, using: 0 HPUs\n"
     ]
    },
    {
     "name": "stdout",
     "output_type": "stream",
     "text": [
      "tensor([3]) tensor([25])\n"
     ]
    }
   ],
   "source": [
    "#Parameteres\n",
    "class Config():\n",
    "    cat_testing_dir = 'data/test/images/'\n",
    "    cat_anno_test_file = 'data/test/test_anno.csv'\n",
    "    evaluation_file = 'data/test/gt_test_plain.json'\n",
    "    number_workers = 8\n",
    "    num_classes = 100\n",
    "    batch_size_test = 1\n",
    "    transformation = True\n",
    "    size_full_image = (256,512)\n",
    "    embeddings = 2560\n",
    "    arcface = False\n",
    "    backbone = 'resnet152'\n",
    "    deterministic = [True, \"warn\"]\n",
    "    precision = \"16-mixed\"\n",
    "    base_model = None\n",
    "\n",
    "# Creating dataloader\n",
    "cat_data = ReidDataModule(data_directory=Config(),\n",
    "                            batch_size_test = Config().batch_size_test,\n",
    "                            transform=Config().transformation,\n",
    "                            num_workers= Config().number_workers, \n",
    "                            size_full_image = Config().size_full_image)\n",
    "# Call the setup method\n",
    "cat_data.setup()\n",
    "\n",
    "# Create the model\n",
    "eval_model = ReidPrediction(\n",
    "    backbone_model = Config().backbone,\n",
    "    number_classes = Config().num_classes, \n",
    "    embedding_size = Config().embeddings,\n",
    "    arcface = False)\n",
    "\n",
    "# Create the trainer\n",
    "trainer = Trainer(accelerator='gpu', logger = False, \n",
    "                enable_checkpointing=False, \n",
    "                precision = Config().precision, \n",
    "                deterministic = Config().deterministic)\n",
    "\n",
    "# Load the weights and biases\n",
    "eval_model.full_image_model.load_state_dict(torch.load('pretrained_weights/eval_model.pth'))\n",
    "\n",
    "# Evaluation of model\n",
    "for batch_idx,batch in enumerate(cat_data.test_dataloader()):\n",
    "\n",
    "    label = batch[1]\n",
    "    img_idx = batch[2]\n",
    "\n",
    "    print(label,img_idx)\n",
    "\n",
    "    eval_model.eval()\n",
    "    eval_model.on_predict_start()\n",
    "    predictions = eval_model.predict_step([batch[0],batch[1],batch[2]],batch_idx)\n",
    "    eval_model.on_predict_epoch_end()\n",
    "\n",
    "    break"
   ]
  }
 ],
 "metadata": {
  "language_info": {
   "codemirror_mode": {
    "name": "ipython",
    "version": 3
   },
   "file_extension": ".py",
   "mimetype": "text/x-python",
   "name": "python",
   "nbconvert_exporter": "python",
   "pygments_lexer": "ipython3",
   "version": "3.11.4"
  }
 },
 "nbformat": 4,
 "nbformat_minor": 2
}
